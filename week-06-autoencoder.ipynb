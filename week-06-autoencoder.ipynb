{
 "cells": [
  {
   "cell_type": "code",
   "execution_count": 1,
   "id": "54bdfd6d",
   "metadata": {
    "_cell_guid": "b1076dfc-b9ad-4769-8c92-a6c4dae69d19",
    "_uuid": "8f2839f25d086af736a60e9eeb907d3b93b6e0e5",
    "execution": {
     "iopub.execute_input": "2025-06-02T03:22:40.194968Z",
     "iopub.status.busy": "2025-06-02T03:22:40.194296Z",
     "iopub.status.idle": "2025-06-02T03:22:44.387874Z",
     "shell.execute_reply": "2025-06-02T03:22:44.387298Z"
    },
    "papermill": {
     "duration": 4.199176,
     "end_time": "2025-06-02T03:22:44.389279",
     "exception": false,
     "start_time": "2025-06-02T03:22:40.190103",
     "status": "completed"
    },
    "tags": []
   },
   "outputs": [],
   "source": [
    "import torch\n",
    "import torch.nn as nn\n",
    "import torch.optim as optim\n",
    "from torch.utils.data import DataLoader\n",
    "import matplotlib.pyplot as plt\n",
    "\n",
    "from tqdm import tqdm"
   ]
  },
  {
   "cell_type": "markdown",
   "id": "14467b82",
   "metadata": {
    "papermill": {
     "duration": 0.002322,
     "end_time": "2025-06-02T03:22:44.394580",
     "exception": false,
     "start_time": "2025-06-02T03:22:44.392258",
     "status": "completed"
    },
    "tags": []
   },
   "source": [
    "# Class dataset"
   ]
  },
  {
   "cell_type": "code",
   "execution_count": 2,
   "id": "d2bc1ae7",
   "metadata": {
    "execution": {
     "iopub.execute_input": "2025-06-02T03:22:44.400627Z",
     "iopub.status.busy": "2025-06-02T03:22:44.400064Z",
     "iopub.status.idle": "2025-06-02T03:22:51.166358Z",
     "shell.execute_reply": "2025-06-02T03:22:51.165767Z"
    },
    "papermill": {
     "duration": 6.770784,
     "end_time": "2025-06-02T03:22:51.167872",
     "exception": false,
     "start_time": "2025-06-02T03:22:44.397088",
     "status": "completed"
    },
    "tags": []
   },
   "outputs": [],
   "source": [
    "from torch.utils.data import Dataset\n",
    "import pandas as pd\n",
    "import numpy as np\n",
    "import torchvision.transforms as transforms\n",
    "\n",
    "class FashionMNISTDataset(Dataset):\n",
    "    def __init__(self, csv_file, transform=None):\n",
    "        self.data = pd.read_csv(csv_file)\n",
    "        self.transform = transform or transforms.Compose([\n",
    "            transforms.ToPILImage(),\n",
    "            transforms.Resize((32, 32)),  \n",
    "            transforms.ToTensor()\n",
    "        ])\n",
    "\n",
    "    def __len__(self):\n",
    "        return len(self.data)\n",
    "\n",
    "    def __getitem__(self, idx):\n",
    "        row = self.data.iloc[idx].values\n",
    "        label = int(row[0])\n",
    "        image = row[1:].astype(np.uint8).reshape(28, 28) \n",
    "        image = np.expand_dims(image, axis=2)  \n",
    "        image = self.transform(image)\n",
    "\n",
    "        return image, image, label "
   ]
  },
  {
   "cell_type": "markdown",
   "id": "d2520fe8",
   "metadata": {
    "papermill": {
     "duration": 0.002331,
     "end_time": "2025-06-02T03:22:51.172956",
     "exception": false,
     "start_time": "2025-06-02T03:22:51.170625",
     "status": "completed"
    },
    "tags": []
   },
   "source": [
    "# Model Encoder"
   ]
  },
  {
   "cell_type": "code",
   "execution_count": 3,
   "id": "45e2d3c9",
   "metadata": {
    "execution": {
     "iopub.execute_input": "2025-06-02T03:22:51.179174Z",
     "iopub.status.busy": "2025-06-02T03:22:51.178418Z",
     "iopub.status.idle": "2025-06-02T03:22:51.183286Z",
     "shell.execute_reply": "2025-06-02T03:22:51.182780Z"
    },
    "papermill": {
     "duration": 0.00893,
     "end_time": "2025-06-02T03:22:51.184303",
     "exception": false,
     "start_time": "2025-06-02T03:22:51.175373",
     "status": "completed"
    },
    "tags": []
   },
   "outputs": [],
   "source": [
    "class Encoder(nn.Module):\n",
    "    def __init__(self):\n",
    "        super(Encoder, self).__init__()\n",
    "        self.encoder = nn.Sequential(\n",
    "            nn.Conv2d(1, 32, kernel_size=3, stride=2, padding=1),  # 16x16\n",
    "            nn.ReLU(),\n",
    "            nn.Conv2d(32, 64, kernel_size=3, stride=2, padding=1), # 8x8\n",
    "            nn.ReLU(),\n",
    "            nn.Conv2d(64, 128, kernel_size=3, stride=2, padding=1),# 4x4\n",
    "            nn.ReLU(),\n",
    "            nn.Flatten(),                                          # 2048\n",
    "            nn.Linear(2048, 2)                                     # bottleneck\n",
    "        )\n",
    "\n",
    "    def forward(self, x):\n",
    "        return self.encoder(x)"
   ]
  },
  {
   "cell_type": "markdown",
   "id": "6588b78e",
   "metadata": {
    "papermill": {
     "duration": 0.002161,
     "end_time": "2025-06-02T03:22:51.188880",
     "exception": false,
     "start_time": "2025-06-02T03:22:51.186719",
     "status": "completed"
    },
    "tags": []
   },
   "source": [
    "# Decoder"
   ]
  },
  {
   "cell_type": "code",
   "execution_count": 4,
   "id": "d3adf66f",
   "metadata": {
    "execution": {
     "iopub.execute_input": "2025-06-02T03:22:51.194276Z",
     "iopub.status.busy": "2025-06-02T03:22:51.194057Z",
     "iopub.status.idle": "2025-06-02T03:22:51.199039Z",
     "shell.execute_reply": "2025-06-02T03:22:51.198531Z"
    },
    "papermill": {
     "duration": 0.00892,
     "end_time": "2025-06-02T03:22:51.200091",
     "exception": false,
     "start_time": "2025-06-02T03:22:51.191171",
     "status": "completed"
    },
    "tags": []
   },
   "outputs": [],
   "source": [
    "class Decoder(nn.Module):\n",
    "    def __init__(self):\n",
    "        super(Decoder, self).__init__()\n",
    "        self.decoder = nn.Sequential(\n",
    "            nn.Linear(2, 2048),\n",
    "            nn.Unflatten(1, (128, 4, 4)),\n",
    "            nn.ConvTranspose2d(128, 128, kernel_size=3, stride=2, padding=1, output_padding=1),\n",
    "            nn.ReLU(),\n",
    "            nn.ConvTranspose2d(128, 64, kernel_size=3, stride=2, padding=1, output_padding=1),\n",
    "            nn.ReLU(),\n",
    "            nn.ConvTranspose2d(64, 32, kernel_size=3, stride=2, padding=1, output_padding=1),\n",
    "            nn.ReLU(),\n",
    "            nn.Conv2d(32, 1, kernel_size=3, padding=1),\n",
    "            nn.Sigmoid()\n",
    "        )\n",
    "\n",
    "    def forward(self, x):\n",
    "        return self.decoder(x)"
   ]
  },
  {
   "cell_type": "markdown",
   "id": "c0c39d1a",
   "metadata": {
    "papermill": {
     "duration": 0.002146,
     "end_time": "2025-06-02T03:22:51.204595",
     "exception": false,
     "start_time": "2025-06-02T03:22:51.202449",
     "status": "completed"
    },
    "tags": []
   },
   "source": [
    "# Autoencoder"
   ]
  },
  {
   "cell_type": "code",
   "execution_count": 5,
   "id": "834d109e",
   "metadata": {
    "execution": {
     "iopub.execute_input": "2025-06-02T03:22:51.210352Z",
     "iopub.status.busy": "2025-06-02T03:22:51.209836Z",
     "iopub.status.idle": "2025-06-02T03:22:51.213872Z",
     "shell.execute_reply": "2025-06-02T03:22:51.213129Z"
    },
    "papermill": {
     "duration": 0.007951,
     "end_time": "2025-06-02T03:22:51.214972",
     "exception": false,
     "start_time": "2025-06-02T03:22:51.207021",
     "status": "completed"
    },
    "tags": []
   },
   "outputs": [],
   "source": [
    "class Autoencoder(nn.Module):\n",
    "    def __init__(self):\n",
    "        super(Autoencoder, self).__init__()\n",
    "        self.encoder = Encoder()\n",
    "        self.decoder = Decoder()\n",
    "\n",
    "    def forward(self, x):\n",
    "        z = self.encoder(x)\n",
    "        out = self.decoder(z)\n",
    "        return out"
   ]
  },
  {
   "cell_type": "markdown",
   "id": "06fde3e1",
   "metadata": {
    "papermill": {
     "duration": 0.002083,
     "end_time": "2025-06-02T03:22:51.219358",
     "exception": false,
     "start_time": "2025-06-02T03:22:51.217275",
     "status": "completed"
    },
    "tags": []
   },
   "source": [
    "# Load dataset"
   ]
  },
  {
   "cell_type": "code",
   "execution_count": 6,
   "id": "0d3a1efa",
   "metadata": {
    "execution": {
     "iopub.execute_input": "2025-06-02T03:22:51.224568Z",
     "iopub.status.busy": "2025-06-02T03:22:51.224349Z",
     "iopub.status.idle": "2025-06-02T03:22:56.382818Z",
     "shell.execute_reply": "2025-06-02T03:22:56.382100Z"
    },
    "papermill": {
     "duration": 5.162718,
     "end_time": "2025-06-02T03:22:56.384298",
     "exception": false,
     "start_time": "2025-06-02T03:22:51.221580",
     "status": "completed"
    },
    "tags": []
   },
   "outputs": [],
   "source": [
    "\n",
    "train_dataset = FashionMNISTDataset('/kaggle/input/fashionmnist/fashion-mnist_train.csv')\n",
    "test_dataset = FashionMNISTDataset('/kaggle/input/fashionmnist/fashion-mnist_test.csv')\n"
   ]
  },
  {
   "cell_type": "markdown",
   "id": "945f643b",
   "metadata": {
    "papermill": {
     "duration": 0.003122,
     "end_time": "2025-06-02T03:22:56.390203",
     "exception": false,
     "start_time": "2025-06-02T03:22:56.387081",
     "status": "completed"
    },
    "tags": []
   },
   "source": [
    "# Persiapan Training"
   ]
  },
  {
   "cell_type": "code",
   "execution_count": 7,
   "id": "d1a93014",
   "metadata": {
    "execution": {
     "iopub.execute_input": "2025-06-02T03:22:56.395729Z",
     "iopub.status.busy": "2025-06-02T03:22:56.395485Z",
     "iopub.status.idle": "2025-06-02T03:22:56.613330Z",
     "shell.execute_reply": "2025-06-02T03:22:56.612752Z"
    },
    "papermill": {
     "duration": 0.222173,
     "end_time": "2025-06-02T03:22:56.614676",
     "exception": false,
     "start_time": "2025-06-02T03:22:56.392503",
     "status": "completed"
    },
    "tags": []
   },
   "outputs": [],
   "source": [
    "train_loader = DataLoader(train_dataset, batch_size=128, shuffle=True)\n",
    "\n",
    "device = torch.device(\"cuda\" if torch.cuda.is_available() else \"cpu\")\n",
    "model = Autoencoder().to(device)\n",
    "\n",
    "criterion = nn.MSELoss()\n",
    "optimizer = optim.Adam(model.parameters(), lr=1e-3)"
   ]
  },
  {
   "cell_type": "markdown",
   "id": "f92be2f6",
   "metadata": {
    "papermill": {
     "duration": 0.002302,
     "end_time": "2025-06-02T03:22:56.619632",
     "exception": false,
     "start_time": "2025-06-02T03:22:56.617330",
     "status": "completed"
    },
    "tags": []
   },
   "source": [
    "# Saatnya pelatihan Autoencoder"
   ]
  },
  {
   "cell_type": "code",
   "execution_count": 8,
   "id": "ab12dec3",
   "metadata": {
    "execution": {
     "iopub.execute_input": "2025-06-02T03:22:56.625167Z",
     "iopub.status.busy": "2025-06-02T03:22:56.624912Z",
     "iopub.status.idle": "2025-06-02T03:25:29.799623Z",
     "shell.execute_reply": "2025-06-02T03:25:29.798827Z"
    },
    "papermill": {
     "duration": 153.178962,
     "end_time": "2025-06-02T03:25:29.800838",
     "exception": false,
     "start_time": "2025-06-02T03:22:56.621876",
     "status": "completed"
    },
    "tags": []
   },
   "outputs": [
    {
     "name": "stderr",
     "output_type": "stream",
     "text": [
      "Epoch 1: 100%|██████████| 469/469 [00:16<00:00, 28.80it/s]\n"
     ]
    },
    {
     "name": "stdout",
     "output_type": "stream",
     "text": [
      "Epoch [1/10], Loss: 0.0370\n"
     ]
    },
    {
     "name": "stderr",
     "output_type": "stream",
     "text": [
      "Epoch 2: 100%|██████████| 469/469 [00:15<00:00, 30.93it/s]\n"
     ]
    },
    {
     "name": "stdout",
     "output_type": "stream",
     "text": [
      "Epoch [2/10], Loss: 0.0250\n"
     ]
    },
    {
     "name": "stderr",
     "output_type": "stream",
     "text": [
      "Epoch 3: 100%|██████████| 469/469 [00:15<00:00, 30.91it/s]\n"
     ]
    },
    {
     "name": "stdout",
     "output_type": "stream",
     "text": [
      "Epoch [3/10], Loss: 0.0235\n"
     ]
    },
    {
     "name": "stderr",
     "output_type": "stream",
     "text": [
      "Epoch 4: 100%|██████████| 469/469 [00:15<00:00, 30.83it/s]\n"
     ]
    },
    {
     "name": "stdout",
     "output_type": "stream",
     "text": [
      "Epoch [4/10], Loss: 0.0227\n"
     ]
    },
    {
     "name": "stderr",
     "output_type": "stream",
     "text": [
      "Epoch 5: 100%|██████████| 469/469 [00:15<00:00, 30.95it/s]\n"
     ]
    },
    {
     "name": "stdout",
     "output_type": "stream",
     "text": [
      "Epoch [5/10], Loss: 0.0222\n"
     ]
    },
    {
     "name": "stderr",
     "output_type": "stream",
     "text": [
      "Epoch 6: 100%|██████████| 469/469 [00:15<00:00, 30.76it/s]\n"
     ]
    },
    {
     "name": "stdout",
     "output_type": "stream",
     "text": [
      "Epoch [6/10], Loss: 0.0217\n"
     ]
    },
    {
     "name": "stderr",
     "output_type": "stream",
     "text": [
      "Epoch 7: 100%|██████████| 469/469 [00:15<00:00, 31.00it/s]\n"
     ]
    },
    {
     "name": "stdout",
     "output_type": "stream",
     "text": [
      "Epoch [7/10], Loss: 0.0214\n"
     ]
    },
    {
     "name": "stderr",
     "output_type": "stream",
     "text": [
      "Epoch 8: 100%|██████████| 469/469 [00:15<00:00, 30.84it/s]\n"
     ]
    },
    {
     "name": "stdout",
     "output_type": "stream",
     "text": [
      "Epoch [8/10], Loss: 0.0211\n"
     ]
    },
    {
     "name": "stderr",
     "output_type": "stream",
     "text": [
      "Epoch 9: 100%|██████████| 469/469 [00:15<00:00, 30.75it/s]\n"
     ]
    },
    {
     "name": "stdout",
     "output_type": "stream",
     "text": [
      "Epoch [9/10], Loss: 0.0209\n"
     ]
    },
    {
     "name": "stderr",
     "output_type": "stream",
     "text": [
      "Epoch 10: 100%|██████████| 469/469 [00:15<00:00, 30.61it/s]"
     ]
    },
    {
     "name": "stdout",
     "output_type": "stream",
     "text": [
      "Epoch [10/10], Loss: 0.0207\n"
     ]
    },
    {
     "name": "stderr",
     "output_type": "stream",
     "text": [
      "\n"
     ]
    }
   ],
   "source": [
    "\n",
    "epochs = 10\n",
    "for epoch in range(epochs):\n",
    "    total_loss = 0\n",
    "    for imgs, _, _ in tqdm(train_loader, desc=f\"Epoch {epoch+1}\"):\n",
    "        imgs = imgs.to(device)\n",
    "        \n",
    "        outputs = model(imgs)\n",
    "        loss = criterion(outputs, imgs)\n",
    "        \n",
    "        optimizer.zero_grad()\n",
    "        loss.backward()\n",
    "        optimizer.step()\n",
    "        \n",
    "        total_loss += loss.item()\n",
    "    \n",
    "    print(f\"Epoch [{epoch+1}/{epochs}], Loss: {total_loss/len(train_loader):.4f}\")\n",
    "\n",
    "torch.save(model.state_dict(), 'model.pth')"
   ]
  },
  {
   "cell_type": "markdown",
   "id": "4d7bd425",
   "metadata": {
    "papermill": {
     "duration": 0.047978,
     "end_time": "2025-06-02T03:25:29.947249",
     "exception": false,
     "start_time": "2025-06-02T03:25:29.899271",
     "status": "completed"
    },
    "tags": []
   },
   "source": [
    "# Contoh visualisasi hasil decode"
   ]
  },
  {
   "cell_type": "code",
   "execution_count": 9,
   "id": "2d4224ce",
   "metadata": {
    "execution": {
     "iopub.execute_input": "2025-06-02T03:25:30.045189Z",
     "iopub.status.busy": "2025-06-02T03:25:30.044925Z",
     "iopub.status.idle": "2025-06-02T03:25:30.693269Z",
     "shell.execute_reply": "2025-06-02T03:25:30.692676Z"
    },
    "papermill": {
     "duration": 0.699144,
     "end_time": "2025-06-02T03:25:30.694506",
     "exception": false,
     "start_time": "2025-06-02T03:25:29.995362",
     "status": "completed"
    },
    "tags": []
   },
   "outputs": [
    {
     "name": "stderr",
     "output_type": "stream",
     "text": [
      "showing reconstruction: 100%|██████████| 10/10 [00:00<00:00, 26.28it/s]\n"
     ]
    },
    {
     "data": {
      "image/png": "[encoded data removed]",
      "text/plain": [
       "<Figure size 2000x400 with 20 Axes>"
      ]
     },
     "metadata": {},
     "output_type": "display_data"
    }
   ],
   "source": [
    "model = Autoencoder().to(device)\n",
    "model.load_state_dict(torch.load(\"/kaggle/working/model.pth\", map_location=device, weights_only=True))\n",
    "model.eval()\n",
    "with torch.no_grad():\n",
    "    test_imgs, _,_ = next(iter(train_loader))\n",
    "    test_imgs = test_imgs.to(device)\n",
    "    outputs = model(test_imgs)\n",
    "\n",
    "    # Show original and reconstructed\n",
    "    n = 10\n",
    "    plt.figure(figsize=(20, 4))\n",
    "    for i in tqdm(range(n),desc=\"showing reconstruction\"):\n",
    "        # original\n",
    "        ax = plt.subplot(2, n, i + 1)\n",
    "        plt.imshow(test_imgs[i].cpu().squeeze(), cmap='gray')\n",
    "        ax.axis(\"off\")\n",
    "        \n",
    "        # reconstructed\n",
    "        ax = plt.subplot(2, n, i + 1 + n)\n",
    "        plt.imshow(outputs[i].cpu().squeeze(), cmap='gray')\n",
    "        ax.axis(\"off\")\n",
    "    plt.show()"
   ]
  }
 ],
 "metadata": {
  "kaggle": {
   "accelerator": "gpu",
   "dataSources": [
    {
     "datasetId": 2243,
     "sourceId": 9243,
     "sourceType": "datasetVersion"
    }
   ],
   "dockerImageVersionId": 31041,
   "isGpuEnabled": true,
   "isInternetEnabled": true,
   "language": "python",
   "sourceType": "notebook"
  },
  "kernelspec": {
   "display_name": "Python 3",
   "language": "python",
   "name": "python3"
  },
  "language_info": {
   "codemirror_mode": {
    "name": "ipython",
    "version": 3
   },
   "file_extension": ".py",
   "mimetype": "text/x-python",
   "name": "python",
   "nbconvert_exporter": "python",
   "pygments_lexer": "ipython3",
   "version": "3.11.11"
  },
  "papermill": {
   "default_parameters": {},
   "duration": 177.326333,
   "end_time": "2025-06-02T03:25:33.393098",
   "environment_variables": {},
   "exception": null,
   "input_path": "__notebook__.ipynb",
   "output_path": "__notebook__.ipynb",
   "parameters": {},
   "start_time": "2025-06-02T03:22:36.066765",
   "version": "2.6.0"
  }
 },
 "nbformat": 4,
 "nbformat_minor": 5
}
