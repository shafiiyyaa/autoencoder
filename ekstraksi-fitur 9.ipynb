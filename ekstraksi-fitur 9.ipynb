{
 "cells": [
  {
   "cell_type": "markdown",
   "metadata": {},
   "source": [
    "# Persiapan Dataset "
   ]
  },
  {
   "cell_type": "code",
   "execution_count": 17,
   "metadata": {
    "_cell_guid": "b1076dfc-b9ad-4769-8c92-a6c4dae69d19",
    "_uuid": "8f2839f25d086af736a60e9eeb907d3b93b6e0e5",
    "execution": {
     "iopub.execute_input": "2025-08-28T04:40:00.681067Z",
     "iopub.status.busy": "2025-08-28T04:40:00.680776Z",
     "iopub.status.idle": "2025-08-28T04:40:00.768697Z",
     "shell.execute_reply": "2025-08-28T04:40:00.767546Z",
     "shell.execute_reply.started": "2025-08-28T04:40:00.681046Z"
    },
    "trusted": true
   },
   "outputs": [],
   "source": [
    "import numpy as np\n",
    "import torch\n",
    "from torch.utils.data import Dataset, DataLoader\n",
    "\n",
    "def read_idx_images(filename):\n",
    "    with open(filename, 'rb') as f:\n",
    "        data = np.frombuffer(f.read(), np.uint8, offset=16)\n",
    "    # reshape jadi [N, 28, 28]\n",
    "    return data.reshape(-1, 28, 28)\n",
    "\n",
    "def read_idx_labels(filename):\n",
    "    with open(filename, 'rb') as f:\n",
    "        data = np.frombuffer(f.read(), np.uint8, offset=8)\n",
    "    return data\n",
    "\n",
    "class MNIST_IDX_Dataset(Dataset):\n",
    "    def __init__(self, images_path, labels_path, transform=None):\n",
    "        self.images = read_idx_images(images_path)\n",
    "        self.labels = read_idx_labels(labels_path)\n",
    "        self.transform = transform\n",
    "\n",
    "    def __len__(self):\n",
    "        return len(self.labels)\n",
    "\n",
    "    def __getitem__(self, idx):\n",
    "        img = self.images[idx]\n",
    "        label = self.labels[idx]\n",
    "        img = torch.tensor(img, dtype=torch.float32).unsqueeze(0) / 255.0  # [1,28,28] normalisasi 0-1\n",
    "        if self.transform:\n",
    "            img = self.transform(img)\n",
    "        return img, label\n",
    "\n",
    "# ----------------------------------------------------\n",
    "# Pakai dataset\n",
    "train_dataset = MNIST_IDX_Dataset(\n",
    "    images_path=\"/kaggle/input/fashionmnist/train-images-idx3-ubyte\",\n",
    "    labels_path=\"/kaggle/input/fashionmnist/train-labels-idx1-ubyte\"\n",
    ")\n",
    "\n",
    "test_dataset = MNIST_IDX_Dataset(\n",
    "    images_path=\"/kaggle/input/fashionmnist/t10k-images-idx3-ubyte\",\n",
    "    labels_path=\"/kaggle/input/fashionmnist/t10k-labels-idx1-ubyte\"\n",
    ")\n",
    "\n",
    "train_loader = DataLoader(train_dataset, batch_size=128, shuffle=True)\n",
    "test_loader = DataLoader(test_dataset, batch_size=128, shuffle=False)\n"
   ]
  },
  {
   "cell_type": "markdown",
   "metadata": {},
   "source": [
    "Kode di atas bertujuan untuk menyiapkan data dari dataset Fashion-MNIST. Ini mendefinisikan tiga fungsi utama dan satu kelas.\n",
    "\n",
    "- read_idx_images(filename): Fungsi ini membaca file gambar dari format IDX. Setelah membaca, data diubah menjadi array NumPy dengan bentuk [N, 28, 28], di mana N adalah jumlah gambar dan 28x28 adalah dimensi setiap gambar.\n",
    "\n",
    "- read_idx_labels(filename): Fungsi ini membaca file label yang berisi angka-angka (0-9) yang mewakili kategori setiap gambar.\n",
    "\n",
    "- MNIST_IDX_Dataset(Dataset): Ini adalah kelas kustom yang dibuat untuk memuat dataset Fashion-MNIST. Kelas ini mengimplementasikan metode __len__ untuk mendapatkan jumlah total data dan __getitem__ untuk mengambil satu gambar dan labelnya pada indeks tertentu. Gambar dinormalisasi (dibagi 255.0) agar nilai pikselnya berada dalam rentang 0-1, yang merupakan praktik standar dalam pelatihan model pembelajaran mesin.\n",
    "\n",
    "- Penggunaan Dataset: Bagian terakhir dari blok ini membuat objek dataset pelatihan (train_dataset) dan pengujian (test_dataset), lalu memuatnya ke dalam DataLoader untuk memfasilitasi pelatihan model dengan batching dan pengacakan data (shuffle=True)."
   ]
  },
  {
   "cell_type": "code",
   "execution_count": 18,
   "metadata": {
    "execution": {
     "iopub.execute_input": "2025-08-28T04:40:00.772024Z",
     "iopub.status.busy": "2025-08-28T04:40:00.770661Z",
     "iopub.status.idle": "2025-08-28T04:40:00.782567Z",
     "shell.execute_reply": "2025-08-28T04:40:00.781314Z",
     "shell.execute_reply.started": "2025-08-28T04:40:00.771985Z"
    },
    "trusted": true
   },
   "outputs": [],
   "source": [
    "model = ConvAutoencoder(in_channels=1, latent_dim=64)\n"
   ]
  },
  {
   "cell_type": "markdown",
   "metadata": {},
   "source": [
    "# Pelatihan Model Autoencoder"
   ]
  },
  {
   "cell_type": "code",
   "execution_count": 19,
   "metadata": {
    "execution": {
     "iopub.execute_input": "2025-08-28T04:40:00.784172Z",
     "iopub.status.busy": "2025-08-28T04:40:00.783899Z",
     "iopub.status.idle": "2025-08-28T04:40:00.794545Z",
     "shell.execute_reply": "2025-08-28T04:40:00.793403Z",
     "shell.execute_reply.started": "2025-08-28T04:40:00.784145Z"
    },
    "trusted": true
   },
   "outputs": [],
   "source": [
    "class ConvAutoencoder28(nn.Module):\n",
    "    def __init__(self, latent_dim=64):\n",
    "        super().__init__()\n",
    "        # Encoder\n",
    "        self.encoder = nn.Sequential(\n",
    "            nn.Conv2d(1, 16, 3, stride=2, padding=1),   # 28 -> 14\n",
    "            nn.ReLU(True),\n",
    "            nn.Conv2d(16, 32, 3, stride=2, padding=1),  # 14 -> 7\n",
    "            nn.ReLU(True),\n",
    "        )\n",
    "        self.fc1 = nn.Linear(32*7*7, latent_dim)\n",
    "\n",
    "        # Decoder\n",
    "        self.fc2 = nn.Linear(latent_dim, 32*7*7)\n",
    "        self.decoder = nn.Sequential(\n",
    "            nn.ConvTranspose2d(32, 16, 3, stride=2, padding=1, output_padding=1),  # 7 -> 14\n",
    "            nn.ReLU(True),\n",
    "            nn.ConvTranspose2d(16, 1, 3, stride=2, padding=1, output_padding=1),   # 14 -> 28\n",
    "            nn.Sigmoid()\n",
    "        )\n",
    "\n",
    "    def encode(self, x):\n",
    "        h = self.encoder(x)\n",
    "        h = h.view(h.size(0), -1)\n",
    "        z = self.fc1(h)\n",
    "        return z\n",
    "\n",
    "    def decode(self, z):\n",
    "        h = self.fc2(z)\n",
    "        h = h.view(h.size(0), 32, 7, 7)\n",
    "        xrec = self.decoder(h)\n",
    "        return xrec\n",
    "\n",
    "    def forward(self, x):\n",
    "        z = self.encode(x)\n",
    "        xrec = self.decode(z)\n",
    "        return xrec, z\n"
   ]
  },
  {
   "cell_type": "code",
   "execution_count": 20,
   "metadata": {
    "execution": {
     "iopub.execute_input": "2025-08-28T04:40:00.796035Z",
     "iopub.status.busy": "2025-08-28T04:40:00.795692Z",
     "iopub.status.idle": "2025-08-28T04:42:26.190834Z",
     "shell.execute_reply": "2025-08-28T04:42:26.187808Z",
     "shell.execute_reply.started": "2025-08-28T04:40:00.796005Z"
    },
    "trusted": true
   },
   "outputs": [
    {
     "name": "stdout",
     "output_type": "stream",
     "text": [
      "[Epoch 1/10] Recon Loss: 0.0326\n",
      "[Epoch 2/10] Recon Loss: 0.0124\n",
      "[Epoch 3/10] Recon Loss: 0.0097\n",
      "[Epoch 4/10] Recon Loss: 0.0084\n",
      "[Epoch 5/10] Recon Loss: 0.0078\n",
      "[Epoch 6/10] Recon Loss: 0.0074\n",
      "[Epoch 7/10] Recon Loss: 0.0071\n",
      "[Epoch 8/10] Recon Loss: 0.0069\n",
      "[Epoch 9/10] Recon Loss: 0.0067\n",
      "[Epoch 10/10] Recon Loss: 0.0065\n"
     ]
    }
   ],
   "source": [
    "model = ConvAutoencoder28(latent_dim=64).to(device)\n",
    "train_autoencoder(model, train_loader, device, epochs=10, lr=1e-3)\n"
   ]
  },
  {
   "cell_type": "markdown",
   "metadata": {},
   "source": [
    "kode di atas adalah tempat model autoencoder dilatih.\n",
    "\n",
    "* Inisialisasi Model: \n",
    "Kode model = ConvAutoencoder28(latent_dim=64).to(device) membuat instance baru dari model autoencoder dan memindahkannya ke perangkat yang tersedia (GPU jika ada).\n",
    "\n",
    "* Fungsi train_autoencoder: Fungsi ini menjalankan proses pelatihan model selama sejumlah epoch. Hasil cetak yang menunjukkan \"Recon Loss\" (Reconstruction Loss) atau kerugian rekonstruksi. Angka kerugian ini mengukur seberapa baik model dapat merekonstruksi gambar aslinya. Semakin kecil nilai kerugian, semakin baik modelnya.  Ini adalah indikator bahwa proses pelatihan berhasil dan model sedang belajar dari data."
   ]
  },
  {
   "cell_type": "markdown",
   "metadata": {},
   "source": [
    "# Visualisasi Hasil Rekonstruksi Gambar"
   ]
  },
  {
   "cell_type": "code",
   "execution_count": 21,
   "metadata": {
    "execution": {
     "iopub.execute_input": "2025-08-28T04:42:26.193768Z",
     "iopub.status.busy": "2025-08-28T04:42:26.193429Z",
     "iopub.status.idle": "2025-08-28T04:42:26.206062Z",
     "shell.execute_reply": "2025-08-28T04:42:26.203846Z",
     "shell.execute_reply.started": "2025-08-28T04:42:26.193746Z"
    },
    "trusted": true
   },
   "outputs": [],
   "source": [
    "import matplotlib.pyplot as plt\n",
    "\n",
    "def visualize_reconstruction(model, data_loader, device, n=10):\n",
    "    model.eval()\n",
    "    imgs, _ = next(iter(data_loader))\n",
    "    imgs = imgs.to(device)\n",
    "\n",
    "    with torch.no_grad():\n",
    "        recons, _ = model(imgs)\n",
    "\n",
    "    imgs = imgs.cpu()\n",
    "    recons = recons.cpu()\n",
    "\n",
    "    # Tampilkan n gambar pertama\n",
    "    fig, axes = plt.subplots(2, n, figsize=(n*2, 4))\n",
    "    for i in range(n):\n",
    "        # Asli\n",
    "        axes[0, i].imshow(imgs[i].squeeze(), cmap=\"gray\")\n",
    "        axes[0, i].axis(\"off\")\n",
    "        # Rekonstruksi\n",
    "        axes[1, i].imshow(recons[i].squeeze(), cmap=\"gray\")\n",
    "        axes[1, i].axis(\"off\")\n",
    "\n",
    "    axes[0, 0].set_ylabel(\"Asli\", fontsize=12)\n",
    "    axes[1, 0].set_ylabel(\"Rekonstruksi\", fontsize=12)\n",
    "    plt.show()\n"
   ]
  },
  {
   "cell_type": "markdown",
   "metadata": {},
   "source": [
    "Kode di atas mendefinisikan fungsi visualize_reconstruction yang menggunakan pustaka matplotlib untuk menampilkan hasil dari model.\n",
    "\n",
    "* Fungsi visualize_reconstruction: Fungsi ini mengambil sampel dari data pengujian dan mengumpankannya ke dalam model. Model kemudian menghasilkan gambar hasil rekonstruksi. Kode ini memplot baris atas yang berisi gambar asli dan baris bawah yang berisi gambar hasil rekonstruksi untuk perbandingan visual."
   ]
  },
  {
   "cell_type": "code",
   "execution_count": null,
   "metadata": {
    "execution": {
     "iopub.execute_input": "2025-08-28T04:42:26.207789Z",
     "iopub.status.busy": "2025-08-28T04:42:26.207497Z",
     "iopub.status.idle": "2025-08-28T04:42:27.057821Z",
     "shell.execute_reply": "2025-08-28T04:42:27.056587Z",
     "shell.execute_reply.started": "2025-08-28T04:42:26.207768Z"
    },
    "trusted": true
   },
   "outputs": [
    {
     "data": {
      "image/png": "[encoded data removed]",
      "text/plain": [
       "<Figure size 2000x400 with 20 Axes>"
      ]
     },
     "metadata": {},
     "output_type": "display_data"
    }
   ],
   "source": [
    "visualize_reconstruction(model, test_loader, device, n=10)\n"
   ]
  },
  {
   "cell_type": "markdown",
   "metadata": {},
   "source": [
    "Panggilan Fungsi: Kode visualize_reconstruction(model, test_loader, device, n=10) memanggil fungsi tersebut untuk menampilkan 10 gambar pertama dari data pengujian. Dengan penjelasan gambar sebagai berikut:\n",
    "\n",
    "- Gambar Asli (Baris Atas): Ini adalah 10 gambar pertama dari dataset Fashion-MNIST (misalnya, gambar pakaian, sepatu, dan tas tangan).\n",
    "\n",
    "- Gambar Rekonstruksi (Baris Bawah): Ini adalah versi dari gambar asli yang dihasilkan oleh model. Meskipun mungkin tidak persis sama, gambar ini menunjukkan seberapa baik model telah belajar untuk mengidentifikasi dan mereplikasi fitur-fitur penting dari gambar aslinya.\n",
    "\n",
    "Kemampuan model untuk merekonstruksi gambar dengan baik menunjukkan bahwa bagian encoder telah berhasil mengekstrak fitur-fitur yang representatif dan informatif dari gambar, yang kemudian dapat digunakan untuk tugas-tugas lain seperti klasifikasi."
   ]
  },
  {
   "cell_type": "markdown",
   "metadata": {},
   "source": [
    "# Ekstraksi Fitur dan Klasifikasi"
   ]
  },
  {
   "cell_type": "code",
   "execution_count": 23,
   "metadata": {
    "execution": {
     "iopub.execute_input": "2025-08-28T04:42:27.059118Z",
     "iopub.status.busy": "2025-08-28T04:42:27.058852Z",
     "iopub.status.idle": "2025-08-28T04:42:27.585169Z",
     "shell.execute_reply": "2025-08-28T04:42:27.584125Z",
     "shell.execute_reply.started": "2025-08-28T04:42:27.059098Z"
    },
    "trusted": true
   },
   "outputs": [
    {
     "name": "stdout",
     "output_type": "stream",
     "text": [
      "Shape fitur: torch.Size([10000, 64])\n"
     ]
    }
   ],
   "source": [
    "feats, labels = extract_features(model, test_loader, device)\n",
    "print(\"Shape fitur:\", feats.shape)   # [10000, 64] untuk test set\n"
   ]
  },
  {
   "cell_type": "code",
   "execution_count": 24,
   "metadata": {
    "execution": {
     "iopub.execute_input": "2025-08-28T05:05:14.189532Z",
     "iopub.status.busy": "2025-08-28T05:05:14.189118Z",
     "iopub.status.idle": "2025-08-28T05:05:27.731862Z",
     "shell.execute_reply": "2025-08-28T05:05:27.730731Z",
     "shell.execute_reply.started": "2025-08-28T05:05:14.189507Z"
    },
    "trusted": true
   },
   "outputs": [
    {
     "name": "stdout",
     "output_type": "stream",
     "text": [
      "Accuracy: 0.8581\n"
     ]
    },
    {
     "name": "stderr",
     "output_type": "stream",
     "text": [
      "/usr/local/lib/python3.11/dist-packages/sklearn/linear_model/_logistic.py:458: ConvergenceWarning: lbfgs failed to converge (status=1):\n",
      "STOP: TOTAL NO. OF ITERATIONS REACHED LIMIT.\n",
      "\n",
      "Increase the number of iterations (max_iter) or scale the data as shown in:\n",
      "    https://scikit-learn.org/stable/modules/preprocessing.html\n",
      "Please also refer to the documentation for alternative solver options:\n",
      "    https://scikit-learn.org/stable/modules/linear_model.html#logistic-regression\n",
      "  n_iter_i = _check_optimize_result(\n"
     ]
    }
   ],
   "source": [
    "from sklearn.linear_model import LogisticRegression\n",
    "from sklearn.metrics import accuracy_score\n",
    "\n",
    "# Latih classifier sederhana\n",
    "clf = LogisticRegression(max_iter=1000)\n",
    "clf.fit(feats, labels)\n",
    "\n",
    "# Prediksi\n",
    "y_pred = clf.predict(feats)\n",
    "print(\"Accuracy:\", accuracy_score(labels, y_pred))\n"
   ]
  },
  {
   "cell_type": "markdown",
   "metadata": {},
   "source": [
    "kode di atas menunjukkan bagaimana fitur yang diekstrak oleh autoencoder dapat digunakan untuk tugas lain, yaitu klasifikasi.\n",
    "\n",
    "* Ekstraksi Fitur: Pertama, model autoencoder digunakan untuk mengekstrak fitur laten dari data pengujian (model.encode(x)). Fitur-fitur ini disimpan dalam variabel feats.\n",
    "\n",
    "* Klasifikasi: Fitur-fitur ini kemudian digunakan untuk melatih Logistic Regression, sebuah model klasifikasi yang lebih sederhana. Setelah dilatih, model ini digunakan untuk memprediksi label dan mengukur akurasi."
   ]
  }
 ],
 "metadata": {
  "kernelspec": {
   "display_name": "Python 3",
   "language": "python",
   "name": "python3"
  },
  "language_info": {
   "codemirror_mode": {
    "name": "ipython",
    "version": 3
   },
   "file_extension": ".py",
   "mimetype": "text/x-python",
   "name": "python",
   "nbconvert_exporter": "python",
   "pygments_lexer": "ipython3",
   "version": "3.11.13"
  }
 },
 "nbformat": 4,
 "nbformat_minor": 4
}
